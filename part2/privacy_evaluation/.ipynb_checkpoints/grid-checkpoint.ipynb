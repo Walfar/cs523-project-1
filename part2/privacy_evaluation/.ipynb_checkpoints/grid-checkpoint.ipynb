{
 "cells": [
  {
   "cell_type": "code",
   "execution_count": null,
   "id": "a0bc95b4",
   "metadata": {},
   "outputs": [],
   "source": [
    "import bisect\n",
    "\n",
    "## Grid parameters\n",
    "# Top left corner of the area\n",
    "MAP_LAT = 46.5\n",
    "MAP_LON = 6.55\n",
    "\n",
    "# Total area size\n",
    "MAP_SIZE_LAT = 0.07\n",
    "MAP_SIZE_LON = 0.10\n",
    "\n",
    "# Number of cells\n",
    "CELL_NUM_LAT = 10\n",
    "CELL_NUM_LON = 10\n",
    "\n",
    "# Grid lines\n",
    "GRID_LAT_POINTS = [MAP_LAT + i * (MAP_SIZE_LAT / CELL_NUM_LAT)\n",
    "                   for i in range(1, CELL_NUM_LAT + 1)]\n",
    "GRID_LON_POINTS = [MAP_LON + i * (MAP_SIZE_LON / CELL_NUM_LON)\n",
    "                   for i in range(1, CELL_NUM_LON + 1)]\n",
    "\n",
    "\n",
    "def location_to_cell_id(lat, lon):\n",
    "    \"\"\"Get the grid cell ID for a given latitude and longitude.\"\"\"\n",
    "    if not (MAP_LAT <= lat < MAP_LAT + MAP_SIZE_LAT) or not (\n",
    "        MAP_LON <= lon < MAP_LON + MAP_SIZE_LON\n",
    "    ):\n",
    "        raise ValueError(\"Out of area range.\")\n",
    "\n",
    "    i = bisect.bisect(GRID_LAT_POINTS, lat)\n",
    "    j = bisect.bisect(GRID_LON_POINTS, lon)\n",
    "    return i * CELL_NUM_LAT + j + 1"
   ]
  }
 ],
 "metadata": {
  "kernelspec": {
   "display_name": "Python 3 (ipykernel)",
   "language": "python",
   "name": "python3"
  },
  "language_info": {
   "codemirror_mode": {
    "name": "ipython",
    "version": 3
   },
   "file_extension": ".py",
   "mimetype": "text/x-python",
   "name": "python",
   "nbconvert_exporter": "python",
   "pygments_lexer": "ipython3",
   "version": "3.9.2"
  }
 },
 "nbformat": 4,
 "nbformat_minor": 5
}
